{
 "cells": [
  {
   "cell_type": "code",
   "execution_count": 4,
   "metadata": {},
   "outputs": [
    {
     "name": "stdout",
     "output_type": "stream",
     "text": [
      "Train on 50000 samples, validate on 10000 samples\n",
      "Epoch 1/5\n",
      "50000/50000 [==============================] - 271s 5ms/step - loss: 1.9425 - acc: 0.3046 - val_loss: 1.5698 - val_acc: 0.4345\n",
      "Epoch 2/5\n",
      "50000/50000 [==============================] - 244s 5ms/step - loss: 1.5723 - acc: 0.4250 - val_loss: 2.3279 - val_acc: 0.3023\n",
      "Epoch 3/5\n",
      "50000/50000 [==============================] - 244s 5ms/step - loss: 1.4365 - acc: 0.4800 - val_loss: 1.2760 - val_acc: 0.5398\n",
      "Epoch 4/5\n",
      "50000/50000 [==============================] - 244s 5ms/step - loss: 1.3239 - acc: 0.5223 - val_loss: 1.4139 - val_acc: 0.4779\n",
      "Epoch 5/5\n",
      "50000/50000 [==============================] - 243s 5ms/step - loss: 1.2448 - acc: 0.5532 - val_loss: 1.1851 - val_acc: 0.5799\n",
      "-------------------------------------------------\n",
      "Classification accuracy on the test set:0.5799\n",
      "-------------------------------------------------\n",
      "\n",
      "-------------------------------------------------\n",
      "Cross Entropy Error Curves for Train and Test data\n",
      "-------------------------------------------------\n"
     ]
    },
    {
     "data": {
      "image/png": "[encoded data removed]",
      "text/plain": [
       "<Figure size 432x288 with 1 Axes>"
      ]
     },
     "metadata": {
      "needs_background": "light"
     },
     "output_type": "display_data"
    },
    {
     "name": "stdout",
     "output_type": "stream",
     "text": [
      "-------------------------------------------------\n",
      "Showing first 5 filters from 1st and 2nd Convolutional layers\n",
      "-------------------------------------------------\n"
     ]
    },
    {
     "data": {
      "text/plain": [
       "<Figure size 576x432 with 0 Axes>"
      ]
     },
     "metadata": {},
     "output_type": "display_data"
    },
    {
     "data": {
      "image/png": "[encoded data removed]",
      "text/plain": [
       "<Figure size 864x576 with 5 Axes>"
      ]
     },
     "metadata": {
      "needs_background": "light"
     },
     "output_type": "display_data"
    },
    {
     "data": {
      "image/png": "[encoded data removed]",
      "text/plain": [
       "<Figure size 864x576 with 5 Axes>"
      ]
     },
     "metadata": {
      "needs_background": "light"
     },
     "output_type": "display_data"
    }
   ],
   "source": [
    "'''--------------Importing Libraries--------------'''\n",
    "import warnings\n",
    "warnings.filterwarnings('ignore')\n",
    "\n",
    "import numpy as np\n",
    "from keras.utils import np_utils\n",
    "import pickle\n",
    "import keras\n",
    "from keras.models import Sequential\n",
    "from keras.layers import Dense, Dropout, Activation, Flatten\n",
    "from keras.layers import Conv2D, MaxPooling2D\n",
    "from keras.layers.normalization import BatchNormalization\n",
    "import matplotlib.pyplot as plt\n",
    "\n",
    "'''--------------Defining Functions--------------'''\n",
    "def get_unpickled(data_dir, file_name):\n",
    "   \n",
    "    with open(data_dir + file_name,'rb') as fo:\n",
    "        cifar_dict = pickle.load(fo, encoding='bytes')\n",
    "    return cifar_dict\n",
    "\n",
    "\n",
    "def get_normalize(x):\n",
    "    \n",
    "    min_val = np.min(x)\n",
    "    max_val = np.max(x)\n",
    "    x = (x-min_val) / (max_val-min_val)\n",
    "    return x\n",
    "\n",
    "\n",
    "def get_onehotencode(x, num_classes):\n",
    "    \n",
    "    arr = np.zeros((len(x), num_classes))\n",
    "    \n",
    "    for i, val in enumerate(x):\n",
    "        arr[i][val] = 1\n",
    "    \n",
    "    return arr\n",
    "\n",
    "def get_preprocessed_data(data, num_channel, size):\n",
    "    data_set = data\n",
    "    img_data = data_set[b'data']\n",
    "    img = np.array(img_data, dtype = float) / 255.0\n",
    "    pro_img = img.reshape([-1, num_channel, size, size]).transpose([0, 2, 3, 1])\n",
    "    images = get_normalize(pro_img)\n",
    "    \n",
    "    img_labels = np.array(data[b'labels'])\n",
    "    img_onehotencode = get_onehotencode(img_labels, num_classes)\n",
    "\n",
    "    return images, img_labels, img_onehotencode\n",
    "    \n",
    "def get_test_img(data_dir, num_channel, size):\n",
    "    data = get_unpickled(data_dir,\"test_batch\")\n",
    "    img, class_name, onehotencode = get_preprocessed_data(data, num_channel, size)\n",
    "    #print(len(img))\n",
    "    return img, class_name, onehotencode\n",
    "\n",
    "def get_train_img(data_dir, num_channel, size, num_classes):\n",
    "    train_dirs = ['data_batch_1','data_batch_2','data_batch_3','data_batch_4','data_batch_5']\n",
    "    train_dataset=[]\n",
    "    for i in range(len(train_dirs)):\n",
    "        train_dataset.append(get_unpickled(data_dir,train_dirs[i]))    \n",
    "    data = np.vstack([i[b'data'] for i in train_dataset])\n",
    "    \n",
    "    data_img = np.array(data, dtype = float) / 255.0\n",
    "    pro_img=  data_img.reshape([-1, num_channel, size, size]).transpose([0, 2, 3, 1])\n",
    "    images = get_normalize(pro_img)\n",
    "    img_labels = np.hstack([i[b'labels'] for i in train_dataset])\n",
    "    img_onehotencode = get_onehotencode(img_labels, num_classes)\n",
    "    #print(len(images))\n",
    "    \n",
    "    return images, img_labels, img_onehotencode\n",
    "\n",
    "    \n",
    "    \n",
    "\n",
    "'''------------Main Program-------------'''\n",
    "\n",
    "data_dir = 'cifar-10-batches-py/'\n",
    "size=32\n",
    "num_classes=10\n",
    "num_channel=3\n",
    "num_train_batches=5\n",
    "num_img_per_batch=10000\n",
    "total_num_train_img=num_train_batches*num_img_per_batch\n",
    "max_epos=5\n",
    "\n",
    "test_img, test_class, test_encode= get_test_img(data_dir, num_channel, size)\n",
    "\n",
    "train_img, train_class, train_encode= get_train_img(data_dir, num_channel, size,num_classes)\n",
    "\n",
    "#print(test_encode)\n",
    "\n",
    "\n",
    "'''-----------The CNN-----------------'''\n",
    "model = Sequential()    \n",
    "\n",
    "model.add(Conv2D(64, (5, 5), activation='relu', padding='same', input_shape=(size,size,num_channel)))  \n",
    "model.add(MaxPooling2D(pool_size=(2, 2), strides=2))\n",
    "model.add(BatchNormalization(axis=-1))\n",
    "  \n",
    "model.add(Conv2D(64, (5, 5), activation='relu')) \n",
    "model.add(MaxPooling2D(pool_size=(2, 2), strides=2))\n",
    "model.add(BatchNormalization(axis=-1))  \n",
    "\n",
    "model.add(Flatten())\n",
    "\n",
    "model.add(Dense(382))\n",
    "model.add(Activation('relu'))\n",
    "model.add(Dropout(0.5))\n",
    "\n",
    "model.add(Dense(192))\n",
    "model.add(Activation('relu'))\n",
    "model.add(Dropout(0.5))\n",
    "\n",
    "model.add(Dense(10))\n",
    "model.add(Activation('softmax')) \n",
    "\n",
    "opt_sgd = keras.optimizers.SGD(lr=0.01, momentum=0.0, decay=0.0, nesterov=False)\n",
    "\n",
    "model.compile(loss='categorical_crossentropy',optimizer=opt_sgd, metrics=['accuracy'])\n",
    "\n",
    "cnn = model.fit(train_img, train_encode, batch_size=50, epochs=max_epos, validation_data=(test_img,test_encode),shuffle=True)\n",
    "\n",
    "performance = model.evaluate(test_img, test_encode, verbose=0)\n",
    "print(\"-------------------------------------------------\")\n",
    "print(\"Classification accuracy on the test set:\"+str(performance[1]))\n",
    "print(\"-------------------------------------------------\")\n",
    "print(\"\")\n",
    "print(\"-------------------------------------------------\")\n",
    "print(\"Cross Entropy Error Curves for Train and Test data\")\n",
    "print(\"-------------------------------------------------\")\n",
    "plt.figure(1)\n",
    "plt.plot(cnn.history['loss'],'r')\n",
    "plt.plot(cnn.history['val_loss'],'g')\n",
    "plt.xticks(np.arange(0, 9, 0.5))\n",
    "plt.rcParams['figure.figsize'] = (8, 6)\n",
    "plt.xlabel(\"Iteration\")\n",
    "plt.ylabel(\"Cross Entropy Error\")\n",
    "plt.title(\"Cross Entropy Error Vs Iteration\")\n",
    "plt.legend(['train','test'])\n",
    "\n",
    "plt.show()\n",
    "print(\"-------------------------------------------------\")\n",
    "print(\"Showing first 5 filters from 1st and 2nd Convolutional layers\")\n",
    "print(\"-------------------------------------------------\")\n",
    "\n",
    "conv_layer_1 = model.layers[0].get_weights()[0][:,:,0,:]\n",
    "\n",
    "conv_layer_2 = model.layers[3].get_weights()[0][:,:,0,:]\n",
    "\n",
    "col = 5\n",
    "#row = 1\n",
    "#filter_index = 0\n",
    "plt.figure(2)\n",
    "\n",
    "#------1st Convolutional Layer-----------\n",
    "fig = plt.figure(figsize=(12,8))\n",
    "for i in range(0, col):\n",
    "    ax = fig.add_subplot(1,5,i+1)\n",
    "    ax.imshow(conv_layer_1[:,:,i], cmap='gray')    \n",
    "#-------2nd Convolutional Layer---------    \n",
    "fig = plt.figure(figsize=(12,8))\n",
    "for i in range(0, col):\n",
    "    ax = fig.add_subplot(2,5,i+1)\n",
    "    ax.imshow(conv_layer_2[:,:,i], cmap='gray')     \n",
    "plt.show()\n",
    " \n"
   ]
  },
  {
   "cell_type": "markdown",
   "metadata": {},
   "source": [
    "**Goal 1** Using 5 max iteration I have attained accuracy as 0.56\n",
    "\n",
    "**Goal 2** Cross entropy error curve for testing data and training data is shown by plot. From this plot it is clear that the error is decreasing with the number of iteration for both training and test data.\n",
    "\n",
    "**Goal 3** The filters for 1st convolutional layer and 2nd convolutional layer is shown in a plot"
   ]
  },
  {
   "cell_type": "code",
   "execution_count": null,
   "metadata": {},
   "outputs": [],
   "source": []
  }
 ],
 "metadata": {
  "kernelspec": {
   "display_name": "Python 3",
   "language": "python",
   "name": "python3"
  },
  "language_info": {
   "codemirror_mode": {
    "name": "ipython",
    "version": 3
   },
   "file_extension": ".py",
   "mimetype": "text/x-python",
   "name": "python",
   "nbconvert_exporter": "python",
   "pygments_lexer": "ipython3",
   "version": "3.7.1"
  }
 },
 "nbformat": 4,
 "nbformat_minor": 2
}
